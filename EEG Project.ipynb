{
 "cells": [
  {
   "cell_type": "code",
   "execution_count": 418,
   "id": "81bbdfa8",
   "metadata": {},
   "outputs": [],
   "source": [
    "import tensorflow as tf\n",
    "import numpy as np\n",
    "import pandas as pd\n",
    "import os\n",
    "import pywt\n",
    "import matplotlib.pyplot as plt\n",
    "\n",
    "from sklearn.utils import shuffle as shuffle_sklearn\n",
    "from tensorboard.plugins.hparams import api as hp\n",
    "from tqdm import tqdm\n",
    "from scipy import signal\n",
    "\n",
    "from scipy.signal import butter, sosfiltfilt, hilbert"
   ]
  },
  {
   "cell_type": "markdown",
   "id": "6bbbf49e",
   "metadata": {},
   "source": [
    "# Loading Data\n",
    "----\n",
    "We start by loading the data of a specific subject. Since the headset is using 256 Hz and have used 8 seconds in the training process, we get samples of 2048 length. The shape of the data will be: **Number of trials x Number of channels x Samples**\n"
   ]
  },
  {
   "cell_type": "code",
   "execution_count": 523,
   "id": "49715c19",
   "metadata": {},
   "outputs": [
    {
     "name": "stdout",
     "output_type": "stream",
     "text": [
      "['A01T', 'A02T', 'A03T', 'A04T', 'A05T', 'A06T', 'A07T', 'A08T', 'A09T']\n",
      "Extracting EDF parameters from /Users/alexander/Documents/Uni/Master/SST Project/Code/Data/EEG_2a/A01T.gdf...\n",
      "GDF file detected\n",
      "Setting channel info structure...\n",
      "Creating raw.info structure...\n"
     ]
    },
    {
     "name": "stderr",
     "output_type": "stream",
     "text": [
      "/Users/alexander/Documents/Uni/Master/SST Project/Code/projectvenv/lib/python3.8/site-packages/mne/io/edf/edf.py:1047: DeprecationWarning: The binary mode of fromstring is deprecated, as it behaves surprisingly on unicode inputs. Use frombuffer instead\n",
      "  etmode = np.fromstring(etmode, UINT8).tolist()[0]\n",
      "/var/folders/_c/td041vkd25qf7j967n0yrgk40000gn/T/ipykernel_59832/652654843.py:22: RuntimeWarning: Channel names are not unique, found duplicates for: {'EEG'}. Applying running numbers for duplicates.\n",
      "  raw = mne.io.read_raw_gdf(f'Data/EEG_2a/{user}.gdf', exclude = ['EOG-left', 'EOG-central', 'EOG-right'])\n"
     ]
    },
    {
     "name": "stdout",
     "output_type": "stream",
     "text": [
      "288\n",
      "(288, 22, 750)\n",
      "Extracting EDF parameters from /Users/alexander/Documents/Uni/Master/SST Project/Code/Data/EEG_2a/A02T.gdf...\n",
      "GDF file detected\n",
      "Setting channel info structure...\n",
      "Creating raw.info structure...\n"
     ]
    },
    {
     "name": "stderr",
     "output_type": "stream",
     "text": [
      "/Users/alexander/Documents/Uni/Master/SST Project/Code/projectvenv/lib/python3.8/site-packages/mne/io/edf/edf.py:1047: DeprecationWarning: The binary mode of fromstring is deprecated, as it behaves surprisingly on unicode inputs. Use frombuffer instead\n",
      "  etmode = np.fromstring(etmode, UINT8).tolist()[0]\n",
      "/var/folders/_c/td041vkd25qf7j967n0yrgk40000gn/T/ipykernel_59832/652654843.py:22: RuntimeWarning: Channel names are not unique, found duplicates for: {'EEG'}. Applying running numbers for duplicates.\n",
      "  raw = mne.io.read_raw_gdf(f'Data/EEG_2a/{user}.gdf', exclude = ['EOG-left', 'EOG-central', 'EOG-right'])\n"
     ]
    },
    {
     "name": "stdout",
     "output_type": "stream",
     "text": [
      "288\n",
      "(288, 22, 750)\n",
      "Extracting EDF parameters from /Users/alexander/Documents/Uni/Master/SST Project/Code/Data/EEG_2a/A03T.gdf...\n",
      "GDF file detected\n",
      "Setting channel info structure...\n",
      "Creating raw.info structure...\n"
     ]
    },
    {
     "name": "stderr",
     "output_type": "stream",
     "text": [
      "/Users/alexander/Documents/Uni/Master/SST Project/Code/projectvenv/lib/python3.8/site-packages/mne/io/edf/edf.py:1047: DeprecationWarning: The binary mode of fromstring is deprecated, as it behaves surprisingly on unicode inputs. Use frombuffer instead\n",
      "  etmode = np.fromstring(etmode, UINT8).tolist()[0]\n",
      "/var/folders/_c/td041vkd25qf7j967n0yrgk40000gn/T/ipykernel_59832/652654843.py:22: RuntimeWarning: Channel names are not unique, found duplicates for: {'EEG'}. Applying running numbers for duplicates.\n",
      "  raw = mne.io.read_raw_gdf(f'Data/EEG_2a/{user}.gdf', exclude = ['EOG-left', 'EOG-central', 'EOG-right'])\n"
     ]
    },
    {
     "name": "stdout",
     "output_type": "stream",
     "text": [
      "288\n",
      "(288, 22, 750)\n",
      "Extracting EDF parameters from /Users/alexander/Documents/Uni/Master/SST Project/Code/Data/EEG_2a/A04T.gdf...\n",
      "GDF file detected\n",
      "Setting channel info structure...\n",
      "Creating raw.info structure...\n"
     ]
    },
    {
     "name": "stderr",
     "output_type": "stream",
     "text": [
      "/Users/alexander/Documents/Uni/Master/SST Project/Code/projectvenv/lib/python3.8/site-packages/mne/io/edf/edf.py:1047: DeprecationWarning: The binary mode of fromstring is deprecated, as it behaves surprisingly on unicode inputs. Use frombuffer instead\n",
      "  etmode = np.fromstring(etmode, UINT8).tolist()[0]\n",
      "/var/folders/_c/td041vkd25qf7j967n0yrgk40000gn/T/ipykernel_59832/652654843.py:22: RuntimeWarning: Channel names are not unique, found duplicates for: {'EEG'}. Applying running numbers for duplicates.\n",
      "  raw = mne.io.read_raw_gdf(f'Data/EEG_2a/{user}.gdf', exclude = ['EOG-left', 'EOG-central', 'EOG-right'])\n"
     ]
    },
    {
     "name": "stdout",
     "output_type": "stream",
     "text": [
      "288\n",
      "(288, 22, 750)\n",
      "Extracting EDF parameters from /Users/alexander/Documents/Uni/Master/SST Project/Code/Data/EEG_2a/A05T.gdf...\n",
      "GDF file detected\n",
      "Setting channel info structure...\n",
      "Creating raw.info structure...\n"
     ]
    },
    {
     "name": "stderr",
     "output_type": "stream",
     "text": [
      "/Users/alexander/Documents/Uni/Master/SST Project/Code/projectvenv/lib/python3.8/site-packages/mne/io/edf/edf.py:1047: DeprecationWarning: The binary mode of fromstring is deprecated, as it behaves surprisingly on unicode inputs. Use frombuffer instead\n",
      "  etmode = np.fromstring(etmode, UINT8).tolist()[0]\n",
      "/var/folders/_c/td041vkd25qf7j967n0yrgk40000gn/T/ipykernel_59832/652654843.py:22: RuntimeWarning: Channel names are not unique, found duplicates for: {'EEG'}. Applying running numbers for duplicates.\n",
      "  raw = mne.io.read_raw_gdf(f'Data/EEG_2a/{user}.gdf', exclude = ['EOG-left', 'EOG-central', 'EOG-right'])\n"
     ]
    },
    {
     "name": "stdout",
     "output_type": "stream",
     "text": [
      "288\n",
      "(288, 22, 750)\n",
      "Extracting EDF parameters from /Users/alexander/Documents/Uni/Master/SST Project/Code/Data/EEG_2a/A06T.gdf...\n",
      "GDF file detected\n",
      "Setting channel info structure...\n",
      "Creating raw.info structure...\n"
     ]
    },
    {
     "name": "stderr",
     "output_type": "stream",
     "text": [
      "/Users/alexander/Documents/Uni/Master/SST Project/Code/projectvenv/lib/python3.8/site-packages/mne/io/edf/edf.py:1047: DeprecationWarning: The binary mode of fromstring is deprecated, as it behaves surprisingly on unicode inputs. Use frombuffer instead\n",
      "  etmode = np.fromstring(etmode, UINT8).tolist()[0]\n",
      "/var/folders/_c/td041vkd25qf7j967n0yrgk40000gn/T/ipykernel_59832/652654843.py:22: RuntimeWarning: Channel names are not unique, found duplicates for: {'EEG'}. Applying running numbers for duplicates.\n",
      "  raw = mne.io.read_raw_gdf(f'Data/EEG_2a/{user}.gdf', exclude = ['EOG-left', 'EOG-central', 'EOG-right'])\n"
     ]
    },
    {
     "name": "stdout",
     "output_type": "stream",
     "text": [
      "288\n",
      "(288, 22, 750)\n",
      "Extracting EDF parameters from /Users/alexander/Documents/Uni/Master/SST Project/Code/Data/EEG_2a/A07T.gdf...\n",
      "GDF file detected\n",
      "Setting channel info structure...\n",
      "Creating raw.info structure...\n"
     ]
    },
    {
     "name": "stderr",
     "output_type": "stream",
     "text": [
      "/Users/alexander/Documents/Uni/Master/SST Project/Code/projectvenv/lib/python3.8/site-packages/mne/io/edf/edf.py:1047: DeprecationWarning: The binary mode of fromstring is deprecated, as it behaves surprisingly on unicode inputs. Use frombuffer instead\n",
      "  etmode = np.fromstring(etmode, UINT8).tolist()[0]\n",
      "/var/folders/_c/td041vkd25qf7j967n0yrgk40000gn/T/ipykernel_59832/652654843.py:22: RuntimeWarning: Channel names are not unique, found duplicates for: {'EEG'}. Applying running numbers for duplicates.\n",
      "  raw = mne.io.read_raw_gdf(f'Data/EEG_2a/{user}.gdf', exclude = ['EOG-left', 'EOG-central', 'EOG-right'])\n"
     ]
    },
    {
     "name": "stdout",
     "output_type": "stream",
     "text": [
      "288\n",
      "(288, 22, 750)\n",
      "Extracting EDF parameters from /Users/alexander/Documents/Uni/Master/SST Project/Code/Data/EEG_2a/A08T.gdf...\n",
      "GDF file detected\n",
      "Setting channel info structure...\n",
      "Creating raw.info structure...\n"
     ]
    },
    {
     "name": "stderr",
     "output_type": "stream",
     "text": [
      "/Users/alexander/Documents/Uni/Master/SST Project/Code/projectvenv/lib/python3.8/site-packages/mne/io/edf/edf.py:1047: DeprecationWarning: The binary mode of fromstring is deprecated, as it behaves surprisingly on unicode inputs. Use frombuffer instead\n",
      "  etmode = np.fromstring(etmode, UINT8).tolist()[0]\n",
      "/var/folders/_c/td041vkd25qf7j967n0yrgk40000gn/T/ipykernel_59832/652654843.py:22: RuntimeWarning: Channel names are not unique, found duplicates for: {'EEG'}. Applying running numbers for duplicates.\n",
      "  raw = mne.io.read_raw_gdf(f'Data/EEG_2a/{user}.gdf', exclude = ['EOG-left', 'EOG-central', 'EOG-right'])\n"
     ]
    },
    {
     "name": "stdout",
     "output_type": "stream",
     "text": [
      "288\n",
      "(288, 22, 750)\n",
      "Extracting EDF parameters from /Users/alexander/Documents/Uni/Master/SST Project/Code/Data/EEG_2a/A09T.gdf...\n",
      "GDF file detected\n",
      "Setting channel info structure...\n",
      "Creating raw.info structure...\n"
     ]
    },
    {
     "name": "stderr",
     "output_type": "stream",
     "text": [
      "/Users/alexander/Documents/Uni/Master/SST Project/Code/projectvenv/lib/python3.8/site-packages/mne/io/edf/edf.py:1047: DeprecationWarning: The binary mode of fromstring is deprecated, as it behaves surprisingly on unicode inputs. Use frombuffer instead\n",
      "  etmode = np.fromstring(etmode, UINT8).tolist()[0]\n",
      "/var/folders/_c/td041vkd25qf7j967n0yrgk40000gn/T/ipykernel_59832/652654843.py:22: RuntimeWarning: Channel names are not unique, found duplicates for: {'EEG'}. Applying running numbers for duplicates.\n",
      "  raw = mne.io.read_raw_gdf(f'Data/EEG_2a/{user}.gdf', exclude = ['EOG-left', 'EOG-central', 'EOG-right'])\n"
     ]
    },
    {
     "name": "stdout",
     "output_type": "stream",
     "text": [
      "288\n",
      "(288, 22, 750)\n"
     ]
    }
   ],
   "source": [
    "from os import truncate\n",
    "import numpy as np\n",
    "import mne \n",
    "import pandas as pd\n",
    "\n",
    "from enum import IntEnum\n",
    "\n",
    "def gdfData(user):\n",
    "    cue_offset = 1000           # ms\n",
    "    activity_duration = 3000    # ms\n",
    "\n",
    "    class Label(IntEnum):\n",
    "        CLASS1 = 0x301\n",
    "        CLASS2 = 0x302\n",
    "        CLASS3 = 0x303\n",
    "        CLASS4 = 0x304\n",
    "\n",
    "    electrode_names = [ 'Fz', 'FC3', 'FC1', 'FCZ', 'FC2', 'FC4', 'C5', 'C3', 'C1', 'Cz', 'C2', \n",
    "                        'C4', 'C6', 'CP3', 'CP1', 'CPZ', 'CP2', 'CP4', 'P1', 'Pz', 'P2', 'POZ']\n",
    "\n",
    "\n",
    "    raw = mne.io.read_raw_gdf(f'Data/EEG_2a/{user}.gdf', exclude = ['EOG-left', 'EOG-central', 'EOG-right'])\n",
    "\n",
    "    data_frame = raw.to_data_frame()\n",
    "    annotations = raw.annotations.to_data_frame()\n",
    "\n",
    "\n",
    "    # rename electrodes according to 10-20 system\n",
    "    keys = data_frame.keys()\n",
    "    for i in range(len(keys)):\n",
    "        if keys[i] == 'time':\n",
    "            continue\n",
    "        data_frame.rename(columns = {keys[i]:electrode_names[i-1]}, inplace = truncate)\n",
    "\n",
    "\n",
    "    trials_of_class_1 = list()\n",
    "    trials_of_class_2 = list()\n",
    "    trials_of_class_3 = list()\n",
    "    trials_of_class_4 = list()\n",
    "\n",
    "    #create relative time consistent between data and annotations\n",
    "    base_time = annotations['onset'][0].timestamp()*10**3 # in ms\n",
    "\n",
    "\n",
    "    #mask data with relevant EEG information (motor imagery)\n",
    "\n",
    "    for i in range(len(annotations.index)):\n",
    "        cur_ann = int(annotations['description'][i])\n",
    "        start = annotations['onset'][i].timestamp()*10**3 - base_time + cue_offset # in ms\n",
    "        end = start + activity_duration\n",
    "        mask = (data_frame['time']>start) & (data_frame['time']<=end)\n",
    "        trial = data_frame.loc[mask]\n",
    "        trial = trial.drop(['time'],axis=1)\n",
    "        trial = trial.to_numpy()\n",
    "            \n",
    "        if  cur_ann == Label.CLASS1:\n",
    "            trials_of_class_1.append(trial)\n",
    "\n",
    "        elif cur_ann == Label.CLASS2:\n",
    "            trials_of_class_2.append(trial)\n",
    "\n",
    "        elif cur_ann == Label.CLASS3:\n",
    "            trials_of_class_3.append(trial)\n",
    "\n",
    "        elif cur_ann == Label.CLASS4:\n",
    "            trials_of_class_4.append(trial)\n",
    "\n",
    "    #remove trials with length other than 750 samples\n",
    "    filtered_trials_of_class_1 = list()\n",
    "    for i in range(len(trials_of_class_1)):\n",
    "        if (len(trials_of_class_1[i])==750):\n",
    "            filtered_trials_of_class_1.append(trials_of_class_1[i])\n",
    "\n",
    "    filtered_trials_of_class_2 = list()\n",
    "    for i in range(len(trials_of_class_2)):\n",
    "        if (len(trials_of_class_2[i])==750):\n",
    "            filtered_trials_of_class_2.append(trials_of_class_2[i])\n",
    "\n",
    "    filtered_trials_of_class_3 = list()\n",
    "    for i in range(len(trials_of_class_3)):\n",
    "        if (len(trials_of_class_3[i])==750):\n",
    "            filtered_trials_of_class_3.append(trials_of_class_3[i])\n",
    "\n",
    "    filtered_trials_of_class_4 = list()\n",
    "    for i in range(len(trials_of_class_4)):\n",
    "        if (len(trials_of_class_4[i])==750):\n",
    "            filtered_trials_of_class_4.append(trials_of_class_4[i])\n",
    "\n",
    "\n",
    "    all_trials = filtered_trials_of_class_1+filtered_trials_of_class_2+filtered_trials_of_class_3+filtered_trials_of_class_4\n",
    "    #print(len(all_trials))\n",
    "\n",
    "    all_trials = np.stack(all_trials)\n",
    "    all_trials = all_trials.transpose(0, 2, 1)\n",
    "\n",
    "    #print(all_trials.shape) #shape currently is 288 x 22 x 750\n",
    "\n",
    "    #forgot Alex' name for it, corresponding to all_trials array\n",
    "    magic_vectors =     len(filtered_trials_of_class_1)*[[0,0,0,1]] \\\n",
    "                    +   len(filtered_trials_of_class_2)*[[0,0,1,0]] \\\n",
    "                    +   len(filtered_trials_of_class_1)*[[0,1,0,0]] \\\n",
    "                    +   len(filtered_trials_of_class_1)*[[1,0,0,0]]\n",
    "    \n",
    "    return all_trials, magic_vectors\n",
    "\n",
    "\n",
    "titles = [f'A0{i}T' for i in range(1, 10)]\n",
    "print(titles)\n",
    "data, one_hot = [], []\n",
    "for elem in titles:\n",
    "    trial, ohot = gdfData(elem)\n",
    "    data.append(trial)\n",
    "    one_hot.append(np.array(ohot))"
   ]
  },
  {
   "cell_type": "code",
   "execution_count": 524,
   "id": "7364aefd",
   "metadata": {},
   "outputs": [],
   "source": [
    "RAW_EEG = np.vstack(data)\n",
    "ONE_HOT = np.vstack(one_hot)"
   ]
  },
  {
   "cell_type": "code",
   "execution_count": 541,
   "id": "d60766aa",
   "metadata": {},
   "outputs": [],
   "source": [
    "def read_single_data(eeg_path, marker_path):\n",
    "    keys = ['Timestamp', 'EEG.AF3', 'EEG.F7', 'EEG.F3', 'EEG.FC5', 'EEG.T7', \"EEG.P7\", \"EEG.O1\",\n",
    "              \"EEG.O2\", \"EEG.P8\", \"EEG.T8\", \"EEG.FC6\", \"EEG.F4\", \"EEG.F8\", \"EEG.AF4\"]\n",
    "    \n",
    "    eeg_data = pd.read_csv(eeg_path, skiprows=[0]).loc[:, keys]\n",
    "    eeg_marker = pd.read_csv(marker_path)\n",
    "    num_markers = len(eeg_marker)\n",
    "    num_ts = len(eeg_data)\n",
    "    num_channels = 14\n",
    "    num_samples = 2048\n",
    "\n",
    "    # We start with zero-filled arrays for the raw data and the one hot vector, which is needed for the training\n",
    "    raw_data = np.zeros(shape=(num_markers, num_channels,  num_samples))\n",
    "    one_hot_coding = np.zeros(shape=(num_markers, 4))\n",
    "    # The start and end values of the marker need to be adapted since they don't match an entry\n",
    "    # from the data set\n",
    "    for idx in range(num_markers):\n",
    "        start_marker, end_marker, _, marker_value = eeg_marker.loc[idx, :]\n",
    "        start_aprox = np.around(start_marker, 1)\n",
    "        end_aprox = np.around(end_marker, 1)\n",
    "        timestamps_aprox = np.around(eeg_data.loc[:,'Timestamp'], 1)\n",
    "        \n",
    "        # We take the last entry of the rounded elements, also since we sample with 256 Hz, \n",
    "        # this follows adn entry width of 256 Hz * 8s = 2048 \n",
    "        start_idx = np.where(timestamps_aprox == start_aprox)[0][-1]\n",
    "        end_idx = start_idx + num_samples - 1\n",
    "        \n",
    "        eeg_segment = eeg_data.loc[start_idx:end_idx, keys[1:]].T\n",
    "        raw_data[idx] = eeg_segment\n",
    "        \n",
    "        one_hot_coding[idx][marker_value] = 1\n",
    "        \n",
    "    return raw_data, one_hot_coding\n",
    "        \n",
    "\n",
    "def read_multiple_data(subject):\n",
    "    path = f'{os.getcwd()}/Data/{subject}'\n",
    "    sub_directories = os.listdir(path)\n",
    "    filtered_sub_directories = [directory for directory in sub_directories if 'Session' in directory]\n",
    "    paired_files = []\n",
    "    for filtered_sub_directory in filtered_sub_directories:\n",
    "        files = os.listdir(f'{path}/{filtered_sub_directory}')\n",
    "        filtered_files = [file for file in files if ('EEG' in file) or ('MARKER' in file)]\n",
    "        num_files = len(filtered_files)//2\n",
    "        sub_path = f'{path}/{filtered_sub_directory}'\n",
    "        paired_files += [(f'{sub_path}/EEG_{i}.csv', f'{sub_path}/MARKERS_{i}.csv') for i in range(1, num_files)]\n",
    "    \n",
    "    \n",
    "    data_list = []\n",
    "    one_hot_list = []\n",
    "    \n",
    "    for pair in paired_files:\n",
    "        rdata, one_hot_vec = read_single_data(pair[0], pair[1])\n",
    "        data_list.append(rdata)\n",
    "        one_hot_list.append(one_hot_vec)\n",
    "    \n",
    "    eeg_stack = np.vstack(data_list)\n",
    "    one_hot_stack = np.vstack(one_hot_list)\n",
    "    \n",
    "    return eeg_stack, one_hot_stack\n",
    "\n",
    "RAW_EEG_DATA_L, ONE_HOT_VEC_L = read_multiple_data('Luca')\n",
    "RAW_EEG_DATA_J, ONE_HOT_VEC_J = read_multiple_data('Johannes')\n",
    "#RAW_EEG_DATA_R, ONE_HOT_VEC_R = read_multiple_data('Sandeep')\n",
    "\n",
    "RAW_EEG_DATA_N, ONE_HOT_VEC_N = np.vstack([RAW_EEG_DATA_L, RAW_EEG_DATA_J]), \\\n",
    "                                np.vstack([ONE_HOT_VEC_L, ONE_HOT_VEC_J])\n",
    "#RAW_EEG_DATA, ONE_HOT_VEC = shuffle_sklearn(RAW_EEG_DATA_N, ONE_HOT_VEC_N)\n"
   ]
  },
  {
   "cell_type": "code",
   "execution_count": 543,
   "id": "a1a66740",
   "metadata": {},
   "outputs": [
    {
     "name": "stdout",
     "output_type": "stream",
     "text": [
      "(2592, 22, 750)\n",
      "(2592, 4)\n",
      "(440, 14, 2048)\n",
      "(440, 4)\n",
      "(100, 14, 2048)\n",
      "(100, 4)\n"
     ]
    }
   ],
   "source": [
    "print(RAW_EEG.shape)\n",
    "print(ONE_HOT.shape)\n",
    "\n",
    "#RAW_EEG_DATA, ONE_HOT_VEC = shuffle_sklearn(RAW_EEG, ONE_HOT)\n",
    "RAW_EEG_DATA, ONE_HOT_VEC = shuffle_sklearn(RAW_EEG_DATA_N, ONE_HOT_VEC_N)\n",
    "\n",
    "RAW_EEG_TRAIN, ONE_HOT_VEC_TRAIN = RAW_EEG_DATA[100:], ONE_HOT_VEC[100:]\n",
    "RAW_EEG_TEST, ONE_HOT_VEC_TEST = RAW_EEG_DATA[:100], ONE_HOT_VEC[:100]\n",
    "\n",
    "print(RAW_EEG_TRAIN.shape)\n",
    "print(ONE_HOT_VEC_TRAIN.shape)\n",
    "print(RAW_EEG_TEST.shape)\n",
    "print(ONE_HOT_VEC_TEST.shape)"
   ]
  },
  {
   "cell_type": "markdown",
   "id": "0808388b",
   "metadata": {},
   "source": [
    "# Preprocessing\n",
    "----\n",
    "The first preprocessing step is the normalisation. The scheme for this is the follwing. Let us consider $\\mathbf{X}_{\\mathrm{EEG}}=[\\mathbf{x}^{(1)},\\ldots, \\mathbf{x}^{(N)}]\\in \\mathbb{R}^{k \\times N}$, where $k$ are the amount of channels and $N$ the observations. Then we take a vector $\\mathbf{x}_{k}=[\\mathrm{x}^{(1)}_{k},\\ldots, \\mathrm{x}^{(N)}_{k}]$, calculate its mean $\\mu_{k}$, standard deviation $\\sigma_{k}$ and normalise it as $\\mathbf{\\bar{x}}_{k}=[\\frac{\\mathrm{x}^{(1)}_{k}-\\mu_{k}}{\\sigma_{k}},\\ldots, \\frac{\\mathrm{x}^{(N)}_{k}-\\mu_{k}}{\\sigma_{k}}]$. Repeating this for each channel, we get $\\mathbf{\\bar{X}}_{\\mathrm{EEG}}$."
   ]
  },
  {
   "cell_type": "code",
   "execution_count": 545,
   "id": "7cca22a2",
   "metadata": {},
   "outputs": [],
   "source": [
    "def preprocessing(raw_data):\n",
    "    num_labels = raw_data.shape[0]\n",
    "    num_channels = raw_data.shape[1]\n",
    "    observations = raw_data.shape[2]\n",
    "    \n",
    "    preprocessed_data = np.zeros(shape=(num_labels, num_channels, observations))\n",
    "    \n",
    "    for label_idx in range(num_labels):\n",
    "        for channel_idx in range(num_channels):\n",
    "            mean = np.mean(raw_data[label_idx][channel_idx])\n",
    "            standard_deviation = np.std(raw_data[label_idx][channel_idx])\n",
    "            preprocessed_data[label_idx][channel_idx] = np.array([(i-mean)/standard_deviation for i in raw_data[label_idx][channel_idx]])\n",
    "    \n",
    "    return preprocessed_data\n",
    "\n",
    "EEG_TRAIN = preprocessing(RAW_EEG_TRAIN)\n",
    "EEG_TEST = preprocessing(RAW_EEG_TEST)"
   ]
  },
  {
   "cell_type": "markdown",
   "id": "00317a5f",
   "metadata": {},
   "source": [
    "# Feature Extraction\n",
    "## One Dimension-Aggregate Approximation (1d-AX)\n",
    "----\n",
    "1d-AX  can calculated by taking $\\mathrm{\\bar{x}}_{k}=[\\mathrm{\\bar{x}}^{(1)}_{k},\\ldots, \\mathrm{\\bar{x}}^{(N)}_{k}]$ for each channel, and divide it into $m$ segements $\\mathbf{y}_{k}^{(i)}$ of equal length $q=\\frac{N}{m}$. Afterwards, we take a sampled version of $\\mathbf{y}_{k}^{(i)}$ and apply linear regression to it."
   ]
  },
  {
   "cell_type": "code",
   "execution_count": 546,
   "id": "75bf8de4",
   "metadata": {},
   "outputs": [
    {
     "data": {
      "text/plain": [
       "(440, 14, 32)"
      ]
     },
     "execution_count": 546,
     "metadata": {},
     "output_type": "execute_result"
    }
   ],
   "source": [
    "def segment_data(data, win_length):\n",
    "    num_trials = data.shape[0]\n",
    "    num_channels = data.shape[1]\n",
    "    num_samples = data.shape[2]\n",
    "    num_segments = num_samples//win_length\n",
    "    \n",
    "    sliced_eeg_data = np.zeros(shape=(num_trials, num_channels, num_segments,  win_length))\n",
    "    \n",
    "    for trial_idx in range(num_trials):\n",
    "        for channel_idx in range(num_channels):\n",
    "            for segment_idx in range(num_segments):\n",
    "                lower_limit = segment_idx*win_length\n",
    "                upper_limit = (segment_idx+1)*win_length \n",
    "                sliced_eeg_data[trial_idx][channel_idx][segment_idx] = data[trial_idx][channel_idx][lower_limit:upper_limit]\n",
    "    return sliced_eeg_data\n",
    "\n",
    "def linear_regression(segm_data):\n",
    "    num_trials = segm_data.shape[0]\n",
    "    num_channels = segm_data.shape[1]\n",
    "    num_segments = segm_data.shape[2]\n",
    "    num_samples = segm_data.shape[3]\n",
    "    \n",
    "    K = np.zeros(shape=(num_trials, num_channels, num_segments))\n",
    "    A = np.zeros(shape=(num_trials, num_channels, num_segments))\n",
    "    for trial_idx in range(num_trials):\n",
    "        for channel_idx in range(num_channels):\n",
    "            for segment_idx in range(num_segments):\n",
    "                tmp = segm_data[trial_idx][channel_idx][segment_idx]\n",
    "                t_bar = np.mean([i for i in range(1,num_samples+1)])\n",
    "                v_bar = np.mean(tmp)\n",
    "                k = np.sum([(t_k - t_bar)*v_bar for t_k in tmp])/np.sum([(t_k - t_bar)**2 for t_k in tmp])\n",
    "                b = v_bar - k * t_bar\n",
    "                \n",
    "                K[trial_idx][channel_idx][segment_idx] = k\n",
    "                A[trial_idx][channel_idx][segment_idx] = k * t_bar + b\n",
    "                \n",
    "    return K, A\n",
    "\n",
    "segmented_data_train = segment_data(EEG_TRAIN, 64)\n",
    "K_train, A_train = linear_regression(segmented_data_train)\n",
    "\n",
    "segmented_data_test = segment_data(EEG_TEST, 64)\n",
    "K_test, A_test = linear_regression(segmented_data_test)\n",
    "\n",
    "K_train.shape"
   ]
  },
  {
   "cell_type": "markdown",
   "id": "498e2140",
   "metadata": {},
   "source": [
    "# Channel Weighting\n",
    "----\n",
    "Following the 1d-AX step, we calculate spatial filters for dimensionality reduction. The idea is to gain filters $\\mathbf{W_{\\mathbf{K}}}$ and $\\mathbf{W_{\\mathbf{A}}}$, which reduce the dimensionality of $\\mathbf{K}$ and $\\mathbf{A}$ by taking $\\mathbf{K}'=\\mathbf{W_{\\mathbf{K}}}\\mathbf{K}$, as well as $\\mathbf{A}'=\\mathbf{W_{\\mathbf{A}}}\\mathbf{A}$.\n",
    "\n",
    "# LSTM and Softmax Regression\n",
    "----\n",
    "Subsequently, the output of the filters $\\mathbf{K}'$, $\\mathbf{A}'$ is fed into two LSTMs in parallel. Output of the LSTM is merged and fed into a Softmax Regression."
   ]
  },
  {
   "cell_type": "code",
   "execution_count": 547,
   "id": "ab85fce1",
   "metadata": {},
   "outputs": [
    {
     "name": "stdout",
     "output_type": "stream",
     "text": [
      "Model: \"model_871\"\n",
      "__________________________________________________________________________________________________\n",
      "Layer (type)                    Output Shape         Param #     Connected to                     \n",
      "==================================================================================================\n",
      "input_1759 (InputLayer)         [(None, 32, 14)]     0                                            \n",
      "__________________________________________________________________________________________________\n",
      "input_1760 (InputLayer)         [(None, 32, 14)]     0                                            \n",
      "__________________________________________________________________________________________________\n",
      "dense_2628 (Dense)              (None, 32, 6)        90          input_1759[0][0]                 \n",
      "__________________________________________________________________________________________________\n",
      "dense_2629 (Dense)              (None, 32, 6)        90          input_1760[0][0]                 \n",
      "__________________________________________________________________________________________________\n",
      "batch_normalization_44 (BatchNo (None, 32, 6)        24          dense_2628[0][0]                 \n",
      "__________________________________________________________________________________________________\n",
      "batch_normalization_45 (BatchNo (None, 32, 6)        24          dense_2629[0][0]                 \n",
      "__________________________________________________________________________________________________\n",
      "lstm_1749 (LSTM)                (None, 6)            312         batch_normalization_44[0][0]     \n",
      "__________________________________________________________________________________________________\n",
      "lstm_1750 (LSTM)                (None, 6)            312         batch_normalization_45[0][0]     \n",
      "__________________________________________________________________________________________________\n",
      "concatenate_872 (Concatenate)   (None, 12)           0           lstm_1749[0][0]                  \n",
      "                                                                 lstm_1750[0][0]                  \n",
      "__________________________________________________________________________________________________\n",
      "dense_2630 (Dense)              (None, 4)            52          concatenate_872[0][0]            \n",
      "==================================================================================================\n",
      "Total params: 904\n",
      "Trainable params: 880\n",
      "Non-trainable params: 24\n",
      "__________________________________________________________________________________________________\n"
     ]
    },
    {
     "data": {
      "image/png": "[encoded data removed]",
      "text/plain": [
       "<IPython.core.display.Image object>"
      ]
     },
     "execution_count": 547,
     "metadata": {},
     "output_type": "execute_result"
    }
   ],
   "source": [
    "def create_Model(data_shape, num_reduced_channels, LSTM_cells):\n",
    "    num_samples = data_shape[2]\n",
    "    num_channels = data_shape[1]\n",
    "\n",
    "    Input_K = tf.keras.Input(shape=(num_samples, num_channels))\n",
    "    Input_A = tf.keras.Input(shape=(num_samples, num_channels))\n",
    "    Input_K_f = tf.keras.layers.Dense(num_reduced_channels)(Input_K)\n",
    "    Input_A_f = tf.keras.layers.Dense(num_reduced_channels)(Input_A)\n",
    "    Input_K_f_norm = tf.keras.layers.BatchNormalization()(Input_K_f)\n",
    "    Input_A_f_norm = tf.keras.layers.BatchNormalization()(Input_A_f)\n",
    "    LSTM_K = tf.keras.layers.LSTM(LSTM_cells, dropout=0.6)(Input_K_f_norm)\n",
    "    LSTM_A = tf.keras.layers.LSTM(LSTM_cells, dropout=0.6)(Input_A_f_norm)\n",
    "    Merged_LSTM = tf.keras.layers.concatenate([LSTM_K, LSTM_A])\n",
    "    Output = tf.keras.layers.Dense(4, activation='softmax')(Merged_LSTM)\n",
    "    \n",
    "    return tf.keras.Model(inputs=[Input_K, Input_A], outputs=Output)\n",
    "\n",
    "model = create_Model(K_train.shape, 6, 6)\n",
    "model.summary()\n",
    "tf.keras.utils.plot_model(model, to_file='model.png', show_shapes=True)"
   ]
  },
  {
   "cell_type": "markdown",
   "id": "80216beb",
   "metadata": {},
   "source": [
    "# Training the architecture\n",
    "----\n",
    "We start by using the training data and shuffle it."
   ]
  },
  {
   "cell_type": "code",
   "execution_count": 554,
   "id": "0fdf3d61",
   "metadata": {},
   "outputs": [
    {
     "name": "stderr",
     "output_type": "stream",
     "text": [
      "Epoch 0: 100%|██████████████████████████████████████████████████████████████████████████| 440/440 [00:39<00:00, 11.13it/s]\n",
      "Epoch 1: 100%|██████████████████████████████████████████████████████████████████████████| 440/440 [00:38<00:00, 11.30it/s]\n",
      "Epoch 2: 100%|██████████████████████████████████████████████████████████████████████████| 440/440 [00:38<00:00, 11.31it/s]\n",
      "Epoch 3: 100%|██████████████████████████████████████████████████████████████████████████| 440/440 [00:39<00:00, 11.24it/s]\n",
      "Epoch 4: 100%|██████████████████████████████████████████████████████████████████████████| 440/440 [00:38<00:00, 11.32it/s]\n"
     ]
    }
   ],
   "source": [
    "def train(K_train, A_train, epochs=1, LSTM_cells=5, lrate=3e-4, reduced_channel_dim=5):\n",
    "    num_trials = K_train.shape[0]\n",
    "    num_channels = K_train.shape[1]\n",
    "    num_features = K_train.shape[2]\n",
    "    \n",
    "    model = create_Model(K_train.shape, reduced_channel_dim, LSTM_cells)\n",
    "    optimizer = tf.keras.optimizers.Adam(lrate)\n",
    "    loss = tf.keras.losses.CategoricalCrossentropy()\n",
    "    \n",
    "    for epoch in range(epochs):\n",
    "        for trial_idx in tqdm(range(num_trials), desc=f'Epoch {epoch}'):\n",
    "            K_train_shuffled, A_train_shuffled, ONE_HOT_VEC_TRAIN_SHUFFLED = shuffle_sklearn(K_train, A_train, ONE_HOT_VEC_TRAIN)\n",
    "            \n",
    "            K_train_tf = tf.convert_to_tensor(K_train_shuffled)\n",
    "            A_train_tf = tf.convert_to_tensor(A_train_shuffled)\n",
    "            \n",
    "            with tf.GradientTape() as tape:\n",
    "                K_current = K_train_tf[trial_idx]\n",
    "                A_current = A_train_tf[trial_idx]\n",
    "                #K_train_shuffled, A_train_shuffled= shuffle_sklearn(K_train_tf[trial_idx], A_train_tf[trial_idx])\n",
    "                tape.watch([K_current, A_current])\n",
    "                k_t = tf.transpose(K_current)[None]\n",
    "                a_t = tf.transpose(A_current)[None]\n",
    "                output = model([k_t, a_t])\n",
    "                c_loss = loss(ONE_HOT_VEC_TRAIN_SHUFFLED[trial_idx][None], output)\n",
    "\n",
    "                gradients = tape.gradient(c_loss, model.trainable_variables)\n",
    "                optimizer.apply_gradients(zip(gradients, model.trainable_variables))\n",
    "                \n",
    "    return model\n",
    "                \n",
    "t_model = train(K_train, A_train, 5, 8, 0.005, 6)"
   ]
  },
  {
   "cell_type": "markdown",
   "id": "bf883579",
   "metadata": {},
   "source": [
    "# Test\n",
    "----\n",
    "In this section we evaluate the performance of this architecture."
   ]
  },
  {
   "cell_type": "code",
   "execution_count": 555,
   "id": "9b9510bb",
   "metadata": {},
   "outputs": [
    {
     "name": "stdout",
     "output_type": "stream",
     "text": [
      "Accuracy: 31.0 %\n"
     ]
    }
   ],
   "source": [
    "K_test_tf = tf.convert_to_tensor(K_test)\n",
    "A_test_tf = tf.convert_to_tensor(A_test)\n",
    "\n",
    "def accuracy(hits, N):\n",
    "    acc = len(hits)/N*100\n",
    "    print(f'Accuracy: {np.around(acc, 2)} %')\n",
    "    return acc\n",
    "\n",
    "def test(model, K_test_tf, A_test_tf, ONE_HOT_VEC_TEST):\n",
    "    num_trials = tf.shape(K_test_tf)[0]\n",
    "    num_channels = tf.shape(K_test_tf)[1]\n",
    "    num_features = tf.shape(K_test_tf)[2]\n",
    "\n",
    "    hits_test = []\n",
    "    for trial_idx in range(num_trials):\n",
    "        k_t = tf.transpose(K_test_tf[trial_idx])[None]\n",
    "        a_t = tf.transpose(A_test_tf[trial_idx])[None]\n",
    "        output = model([k_t, a_t])\n",
    "        if ONE_HOT_VEC_TEST[trial_idx][np.argmax(output)] == 1:\n",
    "            hits_test.append(1)\n",
    "        else:\n",
    "            pass\n",
    "\n",
    "    return accuracy(hits_test, len(ONE_HOT_VEC_TEST))\n",
    "\n",
    "res = test(t_model, K_test_tf, A_test_tf, ONE_HOT_VEC_TEST)"
   ]
  },
  {
   "cell_type": "markdown",
   "id": "dc62d165",
   "metadata": {},
   "source": [
    "# Grid search for Hyperparameter tuning\n",
    "----\n",
    "To optimize the results we run a grid search to finde the best hyperparameters."
   ]
  },
  {
   "cell_type": "code",
   "execution_count": 474,
   "id": "d7c8e99c",
   "metadata": {},
   "outputs": [
    {
     "name": "stderr",
     "output_type": "stream",
     "text": [
      "Epoch 0: 100%|████████████████████████████████████████████████████████████████████████| 4984/4984 [02:06<00:00, 39.44it/s]\n",
      "Epoch 1: 100%|████████████████████████████████████████████████████████████████████████| 4984/4984 [02:01<00:00, 41.03it/s]\n"
     ]
    },
    {
     "name": "stdout",
     "output_type": "stream",
     "text": [
      "Accuracy: 23.5 %\n"
     ]
    },
    {
     "name": "stderr",
     "output_type": "stream",
     "text": [
      "Epoch 0: 100%|████████████████████████████████████████████████████████████████████████| 4984/4984 [01:43<00:00, 48.17it/s]\n",
      "Epoch 1: 100%|████████████████████████████████████████████████████████████████████████| 4984/4984 [01:44<00:00, 47.66it/s]\n"
     ]
    },
    {
     "name": "stdout",
     "output_type": "stream",
     "text": [
      "Accuracy: 32.0 %\n"
     ]
    },
    {
     "name": "stderr",
     "output_type": "stream",
     "text": [
      "Epoch 0: 100%|████████████████████████████████████████████████████████████████████████| 4984/4984 [01:43<00:00, 48.24it/s]\n",
      "Epoch 1: 100%|████████████████████████████████████████████████████████████████████████| 4984/4984 [01:42<00:00, 48.40it/s]\n"
     ]
    },
    {
     "name": "stdout",
     "output_type": "stream",
     "text": [
      "Accuracy: 21.0 %\n"
     ]
    },
    {
     "name": "stderr",
     "output_type": "stream",
     "text": [
      "Epoch 0: 100%|████████████████████████████████████████████████████████████████████████| 4984/4984 [01:42<00:00, 48.46it/s]\n",
      "Epoch 1: 100%|████████████████████████████████████████████████████████████████████████| 4984/4984 [01:42<00:00, 48.71it/s]\n"
     ]
    },
    {
     "name": "stdout",
     "output_type": "stream",
     "text": [
      "Accuracy: 19.0 %\n"
     ]
    },
    {
     "name": "stderr",
     "output_type": "stream",
     "text": [
      "Epoch 0: 100%|████████████████████████████████████████████████████████████████████████| 4984/4984 [01:42<00:00, 48.46it/s]\n",
      "Epoch 1: 100%|████████████████████████████████████████████████████████████████████████| 4984/4984 [01:43<00:00, 48.24it/s]\n"
     ]
    },
    {
     "name": "stdout",
     "output_type": "stream",
     "text": [
      "Accuracy: 25.0 %\n"
     ]
    },
    {
     "name": "stderr",
     "output_type": "stream",
     "text": [
      "Epoch 0: 100%|████████████████████████████████████████████████████████████████████████| 4984/4984 [01:42<00:00, 48.59it/s]\n",
      "Epoch 1: 100%|████████████████████████████████████████████████████████████████████████| 4984/4984 [01:42<00:00, 48.57it/s]\n"
     ]
    },
    {
     "name": "stdout",
     "output_type": "stream",
     "text": [
      "Accuracy: 30.0 %\n"
     ]
    },
    {
     "name": "stderr",
     "output_type": "stream",
     "text": [
      "Epoch 0: 100%|████████████████████████████████████████████████████████████████████████| 4984/4984 [01:42<00:00, 48.45it/s]\n",
      "Epoch 1: 100%|████████████████████████████████████████████████████████████████████████| 4984/4984 [01:42<00:00, 48.53it/s]\n"
     ]
    },
    {
     "name": "stdout",
     "output_type": "stream",
     "text": [
      "Accuracy: 22.5 %\n"
     ]
    },
    {
     "name": "stderr",
     "output_type": "stream",
     "text": [
      "Epoch 0: 100%|████████████████████████████████████████████████████████████████████████| 4984/4984 [01:43<00:00, 48.38it/s]\n",
      "Epoch 1: 100%|████████████████████████████████████████████████████████████████████████| 4984/4984 [01:42<00:00, 48.65it/s]\n"
     ]
    },
    {
     "name": "stdout",
     "output_type": "stream",
     "text": [
      "Accuracy: 22.5 %\n"
     ]
    },
    {
     "name": "stderr",
     "output_type": "stream",
     "text": [
      "Epoch 0: 100%|████████████████████████████████████████████████████████████████████████| 4984/4984 [01:44<00:00, 47.60it/s]\n",
      "Epoch 1: 100%|████████████████████████████████████████████████████████████████████████| 4984/4984 [01:44<00:00, 47.56it/s]\n"
     ]
    },
    {
     "name": "stdout",
     "output_type": "stream",
     "text": [
      "Accuracy: 28.5 %\n"
     ]
    },
    {
     "name": "stderr",
     "output_type": "stream",
     "text": [
      "Epoch 0: 100%|████████████████████████████████████████████████████████████████████████| 4984/4984 [01:44<00:00, 47.75it/s]\n",
      "Epoch 1: 100%|████████████████████████████████████████████████████████████████████████| 4984/4984 [01:44<00:00, 47.74it/s]\n"
     ]
    },
    {
     "name": "stdout",
     "output_type": "stream",
     "text": [
      "Accuracy: 21.0 %\n"
     ]
    },
    {
     "name": "stderr",
     "output_type": "stream",
     "text": [
      "Epoch 0: 100%|████████████████████████████████████████████████████████████████████████| 4984/4984 [01:44<00:00, 47.79it/s]\n",
      "Epoch 1: 100%|████████████████████████████████████████████████████████████████████████| 4984/4984 [01:44<00:00, 47.75it/s]\n"
     ]
    },
    {
     "name": "stdout",
     "output_type": "stream",
     "text": [
      "Accuracy: 27.0 %\n"
     ]
    },
    {
     "name": "stderr",
     "output_type": "stream",
     "text": [
      "Epoch 0: 100%|████████████████████████████████████████████████████████████████████████| 4984/4984 [01:44<00:00, 47.75it/s]\n",
      "Epoch 1: 100%|████████████████████████████████████████████████████████████████████████| 4984/4984 [01:44<00:00, 47.80it/s]\n"
     ]
    },
    {
     "name": "stdout",
     "output_type": "stream",
     "text": [
      "Accuracy: 21.0 %\n"
     ]
    },
    {
     "name": "stderr",
     "output_type": "stream",
     "text": [
      "Epoch 0: 100%|████████████████████████████████████████████████████████████████████████| 4984/4984 [01:45<00:00, 47.02it/s]\n",
      "Epoch 1: 100%|████████████████████████████████████████████████████████████████████████| 4984/4984 [01:45<00:00, 47.12it/s]\n"
     ]
    },
    {
     "name": "stdout",
     "output_type": "stream",
     "text": [
      "Accuracy: 32.5 %\n"
     ]
    },
    {
     "name": "stderr",
     "output_type": "stream",
     "text": [
      "Epoch 0: 100%|████████████████████████████████████████████████████████████████████████| 4984/4984 [01:45<00:00, 47.10it/s]\n",
      "Epoch 1: 100%|████████████████████████████████████████████████████████████████████████| 4984/4984 [01:45<00:00, 47.08it/s]\n"
     ]
    },
    {
     "name": "stdout",
     "output_type": "stream",
     "text": [
      "Accuracy: 26.5 %\n"
     ]
    },
    {
     "name": "stderr",
     "output_type": "stream",
     "text": [
      "Epoch 0: 100%|████████████████████████████████████████████████████████████████████████| 4984/4984 [01:45<00:00, 47.07it/s]\n",
      "Epoch 1: 100%|████████████████████████████████████████████████████████████████████████| 4984/4984 [01:45<00:00, 47.11it/s]\n"
     ]
    },
    {
     "name": "stdout",
     "output_type": "stream",
     "text": [
      "Accuracy: 27.0 %\n"
     ]
    },
    {
     "name": "stderr",
     "output_type": "stream",
     "text": [
      "Epoch 0: 100%|████████████████████████████████████████████████████████████████████████| 4984/4984 [01:45<00:00, 47.21it/s]\n",
      "Epoch 1: 100%|████████████████████████████████████████████████████████████████████████| 4984/4984 [01:45<00:00, 47.30it/s]\n"
     ]
    },
    {
     "name": "stdout",
     "output_type": "stream",
     "text": [
      "Accuracy: 26.5 %\n"
     ]
    },
    {
     "name": "stderr",
     "output_type": "stream",
     "text": [
      "Epoch 0: 100%|████████████████████████████████████████████████████████████████████████| 4984/4984 [01:45<00:00, 47.24it/s]\n",
      "Epoch 1: 100%|████████████████████████████████████████████████████████████████████████| 4984/4984 [01:45<00:00, 47.37it/s]\n"
     ]
    },
    {
     "name": "stdout",
     "output_type": "stream",
     "text": [
      "Accuracy: 27.0 %\n"
     ]
    },
    {
     "name": "stderr",
     "output_type": "stream",
     "text": [
      "Epoch 0: 100%|████████████████████████████████████████████████████████████████████████| 4984/4984 [01:45<00:00, 47.08it/s]\n",
      "Epoch 1: 100%|████████████████████████████████████████████████████████████████████████| 4984/4984 [01:45<00:00, 47.24it/s]\n"
     ]
    },
    {
     "name": "stdout",
     "output_type": "stream",
     "text": [
      "Accuracy: 28.5 %\n"
     ]
    },
    {
     "name": "stderr",
     "output_type": "stream",
     "text": [
      "Epoch 0: 100%|████████████████████████████████████████████████████████████████████████| 4984/4984 [01:45<00:00, 47.10it/s]\n",
      "Epoch 1: 100%|████████████████████████████████████████████████████████████████████████| 4984/4984 [01:45<00:00, 47.22it/s]\n"
     ]
    },
    {
     "name": "stdout",
     "output_type": "stream",
     "text": [
      "Accuracy: 30.0 %\n"
     ]
    },
    {
     "name": "stderr",
     "output_type": "stream",
     "text": [
      "Epoch 0: 100%|████████████████████████████████████████████████████████████████████████| 4984/4984 [01:45<00:00, 47.08it/s]\n",
      "Epoch 1: 100%|████████████████████████████████████████████████████████████████████████| 4984/4984 [01:45<00:00, 47.07it/s]\n"
     ]
    },
    {
     "name": "stdout",
     "output_type": "stream",
     "text": [
      "Accuracy: 29.5 %\n"
     ]
    },
    {
     "name": "stderr",
     "output_type": "stream",
     "text": [
      "Epoch 0: 100%|████████████████████████████████████████████████████████████████████████| 4984/4984 [01:44<00:00, 47.79it/s]\n",
      "Epoch 1: 100%|████████████████████████████████████████████████████████████████████████| 4984/4984 [01:43<00:00, 47.95it/s]\n"
     ]
    },
    {
     "name": "stdout",
     "output_type": "stream",
     "text": [
      "Accuracy: 22.0 %\n"
     ]
    },
    {
     "name": "stderr",
     "output_type": "stream",
     "text": [
      "Epoch 0: 100%|████████████████████████████████████████████████████████████████████████| 4984/4984 [01:43<00:00, 48.05it/s]\n",
      "Epoch 1: 100%|████████████████████████████████████████████████████████████████████████| 4984/4984 [01:43<00:00, 48.24it/s]\n"
     ]
    },
    {
     "name": "stdout",
     "output_type": "stream",
     "text": [
      "Accuracy: 24.5 %\n"
     ]
    },
    {
     "name": "stderr",
     "output_type": "stream",
     "text": [
      "Epoch 0: 100%|████████████████████████████████████████████████████████████████████████| 4984/4984 [01:46<00:00, 46.93it/s]\n",
      "Epoch 1: 100%|████████████████████████████████████████████████████████████████████████| 4984/4984 [01:46<00:00, 46.93it/s]\n"
     ]
    },
    {
     "name": "stdout",
     "output_type": "stream",
     "text": [
      "Accuracy: 24.5 %\n"
     ]
    },
    {
     "name": "stderr",
     "output_type": "stream",
     "text": [
      "Epoch 0: 100%|████████████████████████████████████████████████████████████████████████| 4984/4984 [01:46<00:00, 46.95it/s]\n",
      "Epoch 1: 100%|████████████████████████████████████████████████████████████████████████| 4984/4984 [01:45<00:00, 47.07it/s]\n"
     ]
    },
    {
     "name": "stdout",
     "output_type": "stream",
     "text": [
      "Accuracy: 21.5 %\n"
     ]
    },
    {
     "name": "stderr",
     "output_type": "stream",
     "text": [
      "Epoch 0: 100%|████████████████████████████████████████████████████████████████████████| 4984/4984 [01:45<00:00, 47.30it/s]\n",
      "Epoch 1: 100%|████████████████████████████████████████████████████████████████████████| 4984/4984 [01:45<00:00, 47.34it/s]\n"
     ]
    },
    {
     "name": "stdout",
     "output_type": "stream",
     "text": [
      "Accuracy: 33.0 %\n"
     ]
    },
    {
     "name": "stderr",
     "output_type": "stream",
     "text": [
      "Epoch 0: 100%|████████████████████████████████████████████████████████████████████████| 4984/4984 [01:45<00:00, 47.31it/s]\n",
      "Epoch 1: 100%|████████████████████████████████████████████████████████████████████████| 4984/4984 [01:44<00:00, 47.47it/s]\n"
     ]
    },
    {
     "name": "stdout",
     "output_type": "stream",
     "text": [
      "Accuracy: 13.0 %\n"
     ]
    },
    {
     "name": "stderr",
     "output_type": "stream",
     "text": [
      "Epoch 0: 100%|████████████████████████████████████████████████████████████████████████| 4984/4984 [01:44<00:00, 47.51it/s]\n",
      "Epoch 1: 100%|████████████████████████████████████████████████████████████████████████| 4984/4984 [01:44<00:00, 47.55it/s]\n"
     ]
    },
    {
     "name": "stdout",
     "output_type": "stream",
     "text": [
      "Accuracy: 25.5 %\n"
     ]
    },
    {
     "name": "stderr",
     "output_type": "stream",
     "text": [
      "Epoch 0: 100%|████████████████████████████████████████████████████████████████████████| 4984/4984 [01:44<00:00, 47.59it/s]\n",
      "Epoch 1: 100%|████████████████████████████████████████████████████████████████████████| 4984/4984 [01:44<00:00, 47.87it/s]\n"
     ]
    },
    {
     "name": "stdout",
     "output_type": "stream",
     "text": [
      "Accuracy: 20.0 %\n"
     ]
    },
    {
     "name": "stderr",
     "output_type": "stream",
     "text": [
      "Epoch 0: 100%|████████████████████████████████████████████████████████████████████████| 4984/4984 [01:47<00:00, 46.42it/s]\n",
      "Epoch 1: 100%|████████████████████████████████████████████████████████████████████████| 4984/4984 [01:47<00:00, 46.28it/s]\n"
     ]
    },
    {
     "name": "stdout",
     "output_type": "stream",
     "text": [
      "Accuracy: 28.0 %\n"
     ]
    },
    {
     "name": "stderr",
     "output_type": "stream",
     "text": [
      "Epoch 0: 100%|████████████████████████████████████████████████████████████████████████| 4984/4984 [01:47<00:00, 46.31it/s]\n",
      "Epoch 1: 100%|████████████████████████████████████████████████████████████████████████| 4984/4984 [01:47<00:00, 46.52it/s]\n"
     ]
    },
    {
     "name": "stdout",
     "output_type": "stream",
     "text": [
      "Accuracy: 24.0 %\n"
     ]
    },
    {
     "name": "stderr",
     "output_type": "stream",
     "text": [
      "Epoch 0: 100%|████████████████████████████████████████████████████████████████████████| 4984/4984 [01:47<00:00, 46.30it/s]\n",
      "Epoch 1: 100%|████████████████████████████████████████████████████████████████████████| 4984/4984 [01:47<00:00, 46.55it/s]\n"
     ]
    },
    {
     "name": "stdout",
     "output_type": "stream",
     "text": [
      "Accuracy: 29.5 %\n"
     ]
    },
    {
     "name": "stderr",
     "output_type": "stream",
     "text": [
      "Epoch 0: 100%|████████████████████████████████████████████████████████████████████████| 4984/4984 [01:47<00:00, 46.52it/s]\n",
      "Epoch 1: 100%|████████████████████████████████████████████████████████████████████████| 4984/4984 [01:46<00:00, 46.61it/s]\n"
     ]
    },
    {
     "name": "stdout",
     "output_type": "stream",
     "text": [
      "Accuracy: 25.0 %\n"
     ]
    },
    {
     "name": "stderr",
     "output_type": "stream",
     "text": [
      "Epoch 0: 100%|████████████████████████████████████████████████████████████████████████| 4984/4984 [01:47<00:00, 46.33it/s]\n",
      "Epoch 1: 100%|████████████████████████████████████████████████████████████████████████| 4984/4984 [01:47<00:00, 46.29it/s]\n"
     ]
    },
    {
     "name": "stdout",
     "output_type": "stream",
     "text": [
      "Accuracy: 26.5 %\n"
     ]
    },
    {
     "name": "stderr",
     "output_type": "stream",
     "text": [
      "Epoch 0: 100%|████████████████████████████████████████████████████████████████████████| 4984/4984 [01:47<00:00, 46.31it/s]\n",
      "Epoch 1: 100%|████████████████████████████████████████████████████████████████████████| 4984/4984 [01:47<00:00, 46.36it/s]\n"
     ]
    },
    {
     "name": "stdout",
     "output_type": "stream",
     "text": [
      "Accuracy: 31.0 %\n"
     ]
    },
    {
     "name": "stderr",
     "output_type": "stream",
     "text": [
      "Epoch 0: 100%|████████████████████████████████████████████████████████████████████████| 4984/4984 [01:47<00:00, 46.44it/s]\n",
      "Epoch 1: 100%|████████████████████████████████████████████████████████████████████████| 4984/4984 [01:47<00:00, 46.50it/s]\n"
     ]
    },
    {
     "name": "stdout",
     "output_type": "stream",
     "text": [
      "Accuracy: 24.5 %\n"
     ]
    },
    {
     "name": "stderr",
     "output_type": "stream",
     "text": [
      "Epoch 0: 100%|████████████████████████████████████████████████████████████████████████| 4984/4984 [01:47<00:00, 46.24it/s]\n",
      "Epoch 1: 100%|████████████████████████████████████████████████████████████████████████| 4984/4984 [01:47<00:00, 46.46it/s]\n"
     ]
    },
    {
     "name": "stdout",
     "output_type": "stream",
     "text": [
      "Accuracy: 21.5 %\n"
     ]
    },
    {
     "name": "stderr",
     "output_type": "stream",
     "text": [
      "Epoch 0: 100%|████████████████████████████████████████████████████████████████████████| 4984/4984 [01:47<00:00, 46.44it/s]\n",
      "Epoch 1: 100%|████████████████████████████████████████████████████████████████████████| 4984/4984 [01:47<00:00, 46.45it/s]\n"
     ]
    },
    {
     "name": "stdout",
     "output_type": "stream",
     "text": [
      "Accuracy: 28.0 %\n"
     ]
    },
    {
     "name": "stderr",
     "output_type": "stream",
     "text": [
      "Epoch 0: 100%|████████████████████████████████████████████████████████████████████████| 4984/4984 [01:47<00:00, 46.47it/s]\n",
      "Epoch 1: 100%|████████████████████████████████████████████████████████████████████████| 4984/4984 [01:47<00:00, 46.58it/s]\n"
     ]
    },
    {
     "name": "stdout",
     "output_type": "stream",
     "text": [
      "Accuracy: 24.5 %\n"
     ]
    },
    {
     "name": "stderr",
     "output_type": "stream",
     "text": [
      "Epoch 0: 100%|████████████████████████████████████████████████████████████████████████| 4984/4984 [01:47<00:00, 46.38it/s]\n",
      "Epoch 1: 100%|████████████████████████████████████████████████████████████████████████| 4984/4984 [01:47<00:00, 46.57it/s]\n"
     ]
    },
    {
     "name": "stdout",
     "output_type": "stream",
     "text": [
      "Accuracy: 29.0 %\n"
     ]
    },
    {
     "name": "stderr",
     "output_type": "stream",
     "text": [
      "Epoch 0: 100%|████████████████████████████████████████████████████████████████████████| 4984/4984 [01:47<00:00, 46.41it/s]\n",
      "Epoch 1: 100%|████████████████████████████████████████████████████████████████████████| 4984/4984 [01:46<00:00, 46.61it/s]\n"
     ]
    },
    {
     "name": "stdout",
     "output_type": "stream",
     "text": [
      "Accuracy: 27.5 %\n"
     ]
    },
    {
     "name": "stderr",
     "output_type": "stream",
     "text": [
      "Epoch 0: 100%|████████████████████████████████████████████████████████████████████████| 4984/4984 [01:43<00:00, 47.99it/s]\n",
      "Epoch 1: 100%|████████████████████████████████████████████████████████████████████████| 4984/4984 [01:44<00:00, 47.88it/s]\n"
     ]
    },
    {
     "name": "stdout",
     "output_type": "stream",
     "text": [
      "Accuracy: 32.5 %\n"
     ]
    },
    {
     "name": "stderr",
     "output_type": "stream",
     "text": [
      "Epoch 0: 100%|████████████████████████████████████████████████████████████████████████| 4984/4984 [01:44<00:00, 47.83it/s]\n",
      "Epoch 1: 100%|████████████████████████████████████████████████████████████████████████| 4984/4984 [01:43<00:00, 47.94it/s]\n"
     ]
    },
    {
     "name": "stdout",
     "output_type": "stream",
     "text": [
      "Accuracy: 26.5 %\n"
     ]
    },
    {
     "name": "stderr",
     "output_type": "stream",
     "text": [
      "Epoch 0: 100%|████████████████████████████████████████████████████████████████████████| 4984/4984 [01:44<00:00, 47.91it/s]\n",
      "Epoch 1: 100%|████████████████████████████████████████████████████████████████████████| 4984/4984 [01:43<00:00, 47.95it/s]\n"
     ]
    },
    {
     "name": "stdout",
     "output_type": "stream",
     "text": [
      "Accuracy: 21.5 %\n"
     ]
    },
    {
     "name": "stderr",
     "output_type": "stream",
     "text": [
      "Epoch 0: 100%|████████████████████████████████████████████████████████████████████████| 4984/4984 [01:44<00:00, 47.85it/s]\n",
      "Epoch 1: 100%|████████████████████████████████████████████████████████████████████████| 4984/4984 [01:43<00:00, 47.99it/s]\n"
     ]
    },
    {
     "name": "stdout",
     "output_type": "stream",
     "text": [
      "Accuracy: 30.0 %\n"
     ]
    },
    {
     "name": "stderr",
     "output_type": "stream",
     "text": [
      "Epoch 0: 100%|████████████████████████████████████████████████████████████████████████| 4984/4984 [01:45<00:00, 47.35it/s]\n",
      "Epoch 1: 100%|████████████████████████████████████████████████████████████████████████| 4984/4984 [01:45<00:00, 47.38it/s]\n"
     ]
    },
    {
     "name": "stdout",
     "output_type": "stream",
     "text": [
      "Accuracy: 30.0 %\n"
     ]
    },
    {
     "name": "stderr",
     "output_type": "stream",
     "text": [
      "Epoch 0: 100%|████████████████████████████████████████████████████████████████████████| 4984/4984 [01:47<00:00, 46.46it/s]\n",
      "Epoch 1: 100%|████████████████████████████████████████████████████████████████████████| 4984/4984 [01:47<00:00, 46.32it/s]\n"
     ]
    },
    {
     "name": "stdout",
     "output_type": "stream",
     "text": [
      "Accuracy: 20.5 %\n"
     ]
    },
    {
     "name": "stderr",
     "output_type": "stream",
     "text": [
      "Epoch 0: 100%|████████████████████████████████████████████████████████████████████████| 4984/4984 [01:47<00:00, 46.40it/s]\n",
      "Epoch 1: 100%|████████████████████████████████████████████████████████████████████████| 4984/4984 [01:47<00:00, 46.33it/s]\n"
     ]
    },
    {
     "name": "stdout",
     "output_type": "stream",
     "text": [
      "Accuracy: 19.5 %\n"
     ]
    },
    {
     "name": "stderr",
     "output_type": "stream",
     "text": [
      "Epoch 0: 100%|████████████████████████████████████████████████████████████████████████| 4984/4984 [01:47<00:00, 46.45it/s]\n",
      "Epoch 1: 100%|████████████████████████████████████████████████████████████████████████| 4984/4984 [01:47<00:00, 46.49it/s]\n"
     ]
    },
    {
     "name": "stdout",
     "output_type": "stream",
     "text": [
      "Accuracy: 27.5 %\n"
     ]
    },
    {
     "name": "stderr",
     "output_type": "stream",
     "text": [
      "Epoch 0: 100%|████████████████████████████████████████████████████████████████████████| 4984/4984 [01:48<00:00, 45.91it/s]\n",
      "Epoch 1: 100%|████████████████████████████████████████████████████████████████████████| 4984/4984 [01:48<00:00, 46.10it/s]\n"
     ]
    },
    {
     "name": "stdout",
     "output_type": "stream",
     "text": [
      "Accuracy: 25.0 %\n"
     ]
    },
    {
     "name": "stderr",
     "output_type": "stream",
     "text": [
      "Epoch 0: 100%|████████████████████████████████████████████████████████████████████████| 4984/4984 [01:47<00:00, 46.21it/s]\n",
      "Epoch 1: 100%|████████████████████████████████████████████████████████████████████████| 4984/4984 [01:47<00:00, 46.31it/s]\n"
     ]
    },
    {
     "name": "stdout",
     "output_type": "stream",
     "text": [
      "Accuracy: 28.5 %\n"
     ]
    },
    {
     "name": "stderr",
     "output_type": "stream",
     "text": [
      "Epoch 0: 100%|████████████████████████████████████████████████████████████████████████| 4984/4984 [01:48<00:00, 46.06it/s]\n",
      "Epoch 1: 100%|████████████████████████████████████████████████████████████████████████| 4984/4984 [01:47<00:00, 46.19it/s]\n"
     ]
    },
    {
     "name": "stdout",
     "output_type": "stream",
     "text": [
      "Accuracy: 25.5 %\n"
     ]
    },
    {
     "name": "stderr",
     "output_type": "stream",
     "text": [
      "Epoch 0: 100%|████████████████████████████████████████████████████████████████████████| 4984/4984 [01:48<00:00, 46.13it/s]\n",
      "Epoch 1: 100%|████████████████████████████████████████████████████████████████████████| 4984/4984 [01:48<00:00, 46.14it/s]\n"
     ]
    },
    {
     "name": "stdout",
     "output_type": "stream",
     "text": [
      "Accuracy: 26.0 %\n"
     ]
    },
    {
     "name": "stderr",
     "output_type": "stream",
     "text": [
      "Epoch 0: 100%|████████████████████████████████████████████████████████████████████████| 4984/4984 [01:47<00:00, 46.18it/s]\n",
      "Epoch 1: 100%|████████████████████████████████████████████████████████████████████████| 4984/4984 [01:47<00:00, 46.24it/s]\n"
     ]
    },
    {
     "name": "stdout",
     "output_type": "stream",
     "text": [
      "Accuracy: 30.5 %\n"
     ]
    },
    {
     "name": "stderr",
     "output_type": "stream",
     "text": [
      "Epoch 0: 100%|████████████████████████████████████████████████████████████████████████| 4984/4984 [01:48<00:00, 45.97it/s]\n",
      "Epoch 1: 100%|████████████████████████████████████████████████████████████████████████| 4984/4984 [01:47<00:00, 46.17it/s]\n"
     ]
    },
    {
     "name": "stdout",
     "output_type": "stream",
     "text": [
      "Accuracy: 24.5 %\n"
     ]
    },
    {
     "name": "stderr",
     "output_type": "stream",
     "text": [
      "Epoch 0: 100%|████████████████████████████████████████████████████████████████████████| 4984/4984 [01:47<00:00, 46.15it/s]\n",
      "Epoch 1: 100%|████████████████████████████████████████████████████████████████████████| 4984/4984 [01:48<00:00, 46.09it/s]\n"
     ]
    },
    {
     "name": "stdout",
     "output_type": "stream",
     "text": [
      "Accuracy: 24.0 %\n"
     ]
    },
    {
     "name": "stderr",
     "output_type": "stream",
     "text": [
      "Epoch 0: 100%|████████████████████████████████████████████████████████████████████████| 4984/4984 [01:47<00:00, 46.19it/s]\n",
      "Epoch 1: 100%|████████████████████████████████████████████████████████████████████████| 4984/4984 [01:47<00:00, 46.29it/s]\n"
     ]
    },
    {
     "name": "stdout",
     "output_type": "stream",
     "text": [
      "Accuracy: 25.5 %\n"
     ]
    },
    {
     "name": "stderr",
     "output_type": "stream",
     "text": [
      "Epoch 0: 100%|████████████████████████████████████████████████████████████████████████| 4984/4984 [01:48<00:00, 45.94it/s]\n",
      "Epoch 1: 100%|████████████████████████████████████████████████████████████████████████| 4984/4984 [01:48<00:00, 46.00it/s]\n"
     ]
    },
    {
     "name": "stdout",
     "output_type": "stream",
     "text": [
      "Accuracy: 26.0 %\n"
     ]
    },
    {
     "name": "stderr",
     "output_type": "stream",
     "text": [
      "Epoch 0: 100%|████████████████████████████████████████████████████████████████████████| 4984/4984 [02:01<00:00, 40.87it/s]\n",
      "Epoch 1: 100%|████████████████████████████████████████████████████████████████████████| 4984/4984 [02:01<00:00, 41.15it/s]\n"
     ]
    },
    {
     "name": "stdout",
     "output_type": "stream",
     "text": [
      "Accuracy: 17.5 %\n"
     ]
    },
    {
     "name": "stderr",
     "output_type": "stream",
     "text": [
      "Epoch 0: 100%|████████████████████████████████████████████████████████████████████████| 4984/4984 [02:21<00:00, 35.30it/s]\n",
      "Epoch 1:  25%|█████████████████▊                                                      | 1237/4984 [00:35<01:46, 35.16it/s]\n"
     ]
    },
    {
     "ename": "KeyboardInterrupt",
     "evalue": "",
     "output_type": "error",
     "traceback": [
      "\u001b[0;31m---------------------------------------------------------------------------\u001b[0m",
      "\u001b[0;31mKeyboardInterrupt\u001b[0m                         Traceback (most recent call last)",
      "\u001b[0;32m/var/folders/_c/td041vkd25qf7j967n0yrgk40000gn/T/ipykernel_59832/2859598567.py\u001b[0m in \u001b[0;36m<module>\u001b[0;34m\u001b[0m\n\u001b[1;32m     50\u001b[0m                 }\n\u001b[1;32m     51\u001b[0m \u001b[0;34m\u001b[0m\u001b[0m\n\u001b[0;32m---> 52\u001b[0;31m                 \u001b[0mrun\u001b[0m\u001b[0;34m(\u001b[0m\u001b[0;34mf'{LOGPATH}/{session_idx}'\u001b[0m\u001b[0;34m,\u001b[0m \u001b[0mhparams\u001b[0m\u001b[0;34m,\u001b[0m \u001b[0;34m[\u001b[0m\u001b[0;34m]\u001b[0m\u001b[0;34m)\u001b[0m\u001b[0;34m\u001b[0m\u001b[0;34m\u001b[0m\u001b[0m\n\u001b[0m\u001b[1;32m     53\u001b[0m                 \u001b[0msession_idx\u001b[0m \u001b[0;34m+=\u001b[0m \u001b[0;36m1\u001b[0m\u001b[0;34m\u001b[0m\u001b[0;34m\u001b[0m\u001b[0m\n",
      "\u001b[0;32m/var/folders/_c/td041vkd25qf7j967n0yrgk40000gn/T/ipykernel_59832/2859598567.py\u001b[0m in \u001b[0;36mrun\u001b[0;34m(path, hparams, clist)\u001b[0m\n\u001b[1;32m     34\u001b[0m     \u001b[0;32mwith\u001b[0m \u001b[0mtf\u001b[0m\u001b[0;34m.\u001b[0m\u001b[0msummary\u001b[0m\u001b[0;34m.\u001b[0m\u001b[0mcreate_file_writer\u001b[0m\u001b[0;34m(\u001b[0m\u001b[0mpath\u001b[0m\u001b[0;34m)\u001b[0m\u001b[0;34m.\u001b[0m\u001b[0mas_default\u001b[0m\u001b[0;34m(\u001b[0m\u001b[0;34m)\u001b[0m\u001b[0;34m:\u001b[0m\u001b[0;34m\u001b[0m\u001b[0;34m\u001b[0m\u001b[0m\n\u001b[1;32m     35\u001b[0m         \u001b[0mhp\u001b[0m\u001b[0;34m.\u001b[0m\u001b[0mhparams\u001b[0m\u001b[0;34m(\u001b[0m\u001b[0mhparams\u001b[0m\u001b[0;34m)\u001b[0m\u001b[0;34m\u001b[0m\u001b[0;34m\u001b[0m\u001b[0m\n\u001b[0;32m---> 36\u001b[0;31m         \u001b[0maccuracy\u001b[0m \u001b[0;34m=\u001b[0m \u001b[0mstart_grid_search\u001b[0m\u001b[0;34m(\u001b[0m\u001b[0mhparams\u001b[0m\u001b[0;34m)\u001b[0m\u001b[0;34m\u001b[0m\u001b[0;34m\u001b[0m\u001b[0m\n\u001b[0m\u001b[1;32m     37\u001b[0m         \u001b[0mtf\u001b[0m\u001b[0;34m.\u001b[0m\u001b[0msummary\u001b[0m\u001b[0;34m.\u001b[0m\u001b[0mscalar\u001b[0m\u001b[0;34m(\u001b[0m\u001b[0mMETRIC_ACCURACY\u001b[0m\u001b[0;34m,\u001b[0m \u001b[0maccuracy\u001b[0m\u001b[0;34m,\u001b[0m \u001b[0mstep\u001b[0m\u001b[0;34m=\u001b[0m\u001b[0;36m1\u001b[0m\u001b[0;34m)\u001b[0m\u001b[0;34m\u001b[0m\u001b[0;34m\u001b[0m\u001b[0m\n\u001b[1;32m     38\u001b[0m \u001b[0;34m\u001b[0m\u001b[0m\n",
      "\u001b[0;32m/var/folders/_c/td041vkd25qf7j967n0yrgk40000gn/T/ipykernel_59832/2859598567.py\u001b[0m in \u001b[0;36mstart_grid_search\u001b[0;34m(hparams)\u001b[0m\n\u001b[1;32m     21\u001b[0m     \u001b[0mK_test\u001b[0m\u001b[0;34m,\u001b[0m \u001b[0mA_test\u001b[0m \u001b[0;34m=\u001b[0m \u001b[0mlinear_regression\u001b[0m\u001b[0;34m(\u001b[0m\u001b[0msegmented_data_test\u001b[0m\u001b[0;34m)\u001b[0m\u001b[0;34m\u001b[0m\u001b[0;34m\u001b[0m\u001b[0m\n\u001b[1;32m     22\u001b[0m \u001b[0;34m\u001b[0m\u001b[0m\n\u001b[0;32m---> 23\u001b[0;31m     trained_model = train(K_train_tf, A_train_tf,\n\u001b[0m\u001b[1;32m     24\u001b[0m                           \u001b[0mepochs\u001b[0m\u001b[0;34m=\u001b[0m\u001b[0;36m2\u001b[0m\u001b[0;34m,\u001b[0m\u001b[0;34m\u001b[0m\u001b[0;34m\u001b[0m\u001b[0m\n\u001b[1;32m     25\u001b[0m                           \u001b[0mLSTM_cells\u001b[0m\u001b[0;34m=\u001b[0m\u001b[0mhparams\u001b[0m\u001b[0;34m[\u001b[0m\u001b[0mHP_LSTM_CELLS\u001b[0m\u001b[0;34m]\u001b[0m\u001b[0;34m,\u001b[0m\u001b[0;34m\u001b[0m\u001b[0;34m\u001b[0m\u001b[0m\n",
      "\u001b[0;32m/var/folders/_c/td041vkd25qf7j967n0yrgk40000gn/T/ipykernel_59832/4134938452.py\u001b[0m in \u001b[0;36mtrain\u001b[0;34m(K_train_tf, A_train_tf, epochs, LSTM_cells, lrate, reduced_channel_dim)\u001b[0m\n\u001b[1;32m     24\u001b[0m                 \u001b[0mc_loss\u001b[0m \u001b[0;34m=\u001b[0m \u001b[0mloss\u001b[0m\u001b[0;34m(\u001b[0m\u001b[0mONE_HOT_VEC_TRAIN\u001b[0m\u001b[0;34m[\u001b[0m\u001b[0mtrial_idx\u001b[0m\u001b[0;34m]\u001b[0m\u001b[0;34m[\u001b[0m\u001b[0;32mNone\u001b[0m\u001b[0;34m]\u001b[0m\u001b[0;34m,\u001b[0m \u001b[0moutput\u001b[0m\u001b[0;34m)\u001b[0m\u001b[0;34m\u001b[0m\u001b[0;34m\u001b[0m\u001b[0m\n\u001b[1;32m     25\u001b[0m \u001b[0;34m\u001b[0m\u001b[0m\n\u001b[0;32m---> 26\u001b[0;31m                 \u001b[0mgradients\u001b[0m \u001b[0;34m=\u001b[0m \u001b[0mtape\u001b[0m\u001b[0;34m.\u001b[0m\u001b[0mgradient\u001b[0m\u001b[0;34m(\u001b[0m\u001b[0mc_loss\u001b[0m\u001b[0;34m,\u001b[0m \u001b[0mmodel\u001b[0m\u001b[0;34m.\u001b[0m\u001b[0mtrainable_variables\u001b[0m\u001b[0;34m)\u001b[0m\u001b[0;34m\u001b[0m\u001b[0;34m\u001b[0m\u001b[0m\n\u001b[0m\u001b[1;32m     27\u001b[0m                 \u001b[0moptimizer\u001b[0m\u001b[0;34m.\u001b[0m\u001b[0mapply_gradients\u001b[0m\u001b[0;34m(\u001b[0m\u001b[0mzip\u001b[0m\u001b[0;34m(\u001b[0m\u001b[0mgradients\u001b[0m\u001b[0;34m,\u001b[0m \u001b[0mmodel\u001b[0m\u001b[0;34m.\u001b[0m\u001b[0mtrainable_variables\u001b[0m\u001b[0;34m)\u001b[0m\u001b[0;34m)\u001b[0m\u001b[0;34m\u001b[0m\u001b[0;34m\u001b[0m\u001b[0m\n\u001b[1;32m     28\u001b[0m \u001b[0;34m\u001b[0m\u001b[0m\n",
      "\u001b[0;32m~/Documents/Uni/Master/SST Project/Code/projectvenv/lib/python3.8/site-packages/tensorflow/python/eager/backprop.py\u001b[0m in \u001b[0;36mgradient\u001b[0;34m(self, target, sources, output_gradients, unconnected_gradients)\u001b[0m\n\u001b[1;32m   1082\u001b[0m                           for x in nest.flatten(output_gradients)]\n\u001b[1;32m   1083\u001b[0m \u001b[0;34m\u001b[0m\u001b[0m\n\u001b[0;32m-> 1084\u001b[0;31m     flat_grad = imperative_grad.imperative_grad(\n\u001b[0m\u001b[1;32m   1085\u001b[0m         \u001b[0mself\u001b[0m\u001b[0;34m.\u001b[0m\u001b[0m_tape\u001b[0m\u001b[0;34m,\u001b[0m\u001b[0;34m\u001b[0m\u001b[0;34m\u001b[0m\u001b[0m\n\u001b[1;32m   1086\u001b[0m         \u001b[0mflat_targets\u001b[0m\u001b[0;34m,\u001b[0m\u001b[0;34m\u001b[0m\u001b[0;34m\u001b[0m\u001b[0m\n",
      "\u001b[0;32m~/Documents/Uni/Master/SST Project/Code/projectvenv/lib/python3.8/site-packages/tensorflow/python/eager/imperative_grad.py\u001b[0m in \u001b[0;36mimperative_grad\u001b[0;34m(tape, target, sources, output_gradients, sources_raw, unconnected_gradients)\u001b[0m\n\u001b[1;32m     69\u001b[0m         \"Unknown value for unconnected_gradients: %r\" % unconnected_gradients)\n\u001b[1;32m     70\u001b[0m \u001b[0;34m\u001b[0m\u001b[0m\n\u001b[0;32m---> 71\u001b[0;31m   return pywrap_tfe.TFE_Py_TapeGradient(\n\u001b[0m\u001b[1;32m     72\u001b[0m       \u001b[0mtape\u001b[0m\u001b[0;34m.\u001b[0m\u001b[0m_tape\u001b[0m\u001b[0;34m,\u001b[0m  \u001b[0;31m# pylint: disable=protected-access\u001b[0m\u001b[0;34m\u001b[0m\u001b[0;34m\u001b[0m\u001b[0m\n\u001b[1;32m     73\u001b[0m       \u001b[0mtarget\u001b[0m\u001b[0;34m,\u001b[0m\u001b[0;34m\u001b[0m\u001b[0;34m\u001b[0m\u001b[0m\n",
      "\u001b[0;32m~/Documents/Uni/Master/SST Project/Code/projectvenv/lib/python3.8/site-packages/tensorflow/python/eager/backprop.py\u001b[0m in \u001b[0;36m_gradient_function\u001b[0;34m(op_name, attr_tuple, num_inputs, inputs, outputs, out_grads, skip_input_indices, forward_pass_name_scope)\u001b[0m\n\u001b[1;32m    157\u001b[0m       \u001b[0mgradient_name_scope\u001b[0m \u001b[0;34m+=\u001b[0m \u001b[0mforward_pass_name_scope\u001b[0m \u001b[0;34m+\u001b[0m \u001b[0;34m\"/\"\u001b[0m\u001b[0;34m\u001b[0m\u001b[0;34m\u001b[0m\u001b[0m\n\u001b[1;32m    158\u001b[0m     \u001b[0;32mwith\u001b[0m \u001b[0mops\u001b[0m\u001b[0;34m.\u001b[0m\u001b[0mname_scope\u001b[0m\u001b[0;34m(\u001b[0m\u001b[0mgradient_name_scope\u001b[0m\u001b[0;34m)\u001b[0m\u001b[0;34m:\u001b[0m\u001b[0;34m\u001b[0m\u001b[0;34m\u001b[0m\u001b[0m\n\u001b[0;32m--> 159\u001b[0;31m       \u001b[0;32mreturn\u001b[0m \u001b[0mgrad_fn\u001b[0m\u001b[0;34m(\u001b[0m\u001b[0mmock_op\u001b[0m\u001b[0;34m,\u001b[0m \u001b[0;34m*\u001b[0m\u001b[0mout_grads\u001b[0m\u001b[0;34m)\u001b[0m\u001b[0;34m\u001b[0m\u001b[0;34m\u001b[0m\u001b[0m\n\u001b[0m\u001b[1;32m    160\u001b[0m   \u001b[0;32melse\u001b[0m\u001b[0;34m:\u001b[0m\u001b[0;34m\u001b[0m\u001b[0;34m\u001b[0m\u001b[0m\n\u001b[1;32m    161\u001b[0m     \u001b[0;32mreturn\u001b[0m \u001b[0mgrad_fn\u001b[0m\u001b[0;34m(\u001b[0m\u001b[0mmock_op\u001b[0m\u001b[0;34m,\u001b[0m \u001b[0;34m*\u001b[0m\u001b[0mout_grads\u001b[0m\u001b[0;34m)\u001b[0m\u001b[0;34m\u001b[0m\u001b[0;34m\u001b[0m\u001b[0m\n",
      "\u001b[0;32m~/Documents/Uni/Master/SST Project/Code/projectvenv/lib/python3.8/site-packages/tensorflow/python/ops/math_grad.py\u001b[0m in \u001b[0;36m_TanhGrad\u001b[0;34m(op, grad)\u001b[0m\n\u001b[1;32m    785\u001b[0m   \u001b[0my\u001b[0m \u001b[0;34m=\u001b[0m \u001b[0mop\u001b[0m\u001b[0;34m.\u001b[0m\u001b[0moutputs\u001b[0m\u001b[0;34m[\u001b[0m\u001b[0;36m0\u001b[0m\u001b[0;34m]\u001b[0m  \u001b[0;31m# y = tanh(x)\u001b[0m\u001b[0;34m\u001b[0m\u001b[0;34m\u001b[0m\u001b[0m\n\u001b[1;32m    786\u001b[0m   \u001b[0;32mwith\u001b[0m \u001b[0mops\u001b[0m\u001b[0;34m.\u001b[0m\u001b[0mcontrol_dependencies\u001b[0m\u001b[0;34m(\u001b[0m\u001b[0;34m[\u001b[0m\u001b[0mgrad\u001b[0m\u001b[0;34m]\u001b[0m\u001b[0;34m)\u001b[0m\u001b[0;34m:\u001b[0m\u001b[0;34m\u001b[0m\u001b[0;34m\u001b[0m\u001b[0m\n\u001b[0;32m--> 787\u001b[0;31m     \u001b[0my\u001b[0m \u001b[0;34m=\u001b[0m \u001b[0mmath_ops\u001b[0m\u001b[0;34m.\u001b[0m\u001b[0mconj\u001b[0m\u001b[0;34m(\u001b[0m\u001b[0my\u001b[0m\u001b[0;34m)\u001b[0m\u001b[0;34m\u001b[0m\u001b[0;34m\u001b[0m\u001b[0m\n\u001b[0m\u001b[1;32m    788\u001b[0m     \u001b[0;32mreturn\u001b[0m \u001b[0mgen_math_ops\u001b[0m\u001b[0;34m.\u001b[0m\u001b[0mtanh_grad\u001b[0m\u001b[0;34m(\u001b[0m\u001b[0my\u001b[0m\u001b[0;34m,\u001b[0m \u001b[0mgrad\u001b[0m\u001b[0;34m)\u001b[0m\u001b[0;34m\u001b[0m\u001b[0;34m\u001b[0m\u001b[0m\n\u001b[1;32m    789\u001b[0m \u001b[0;34m\u001b[0m\u001b[0m\n",
      "\u001b[0;32m~/Documents/Uni/Master/SST Project/Code/projectvenv/lib/python3.8/site-packages/tensorflow/python/util/dispatch.py\u001b[0m in \u001b[0;36mwrapper\u001b[0;34m(*args, **kwargs)\u001b[0m\n\u001b[1;32m    204\u001b[0m     \u001b[0;34m\"\"\"Call target, and fall back on dispatchers if there is a TypeError.\"\"\"\u001b[0m\u001b[0;34m\u001b[0m\u001b[0;34m\u001b[0m\u001b[0m\n\u001b[1;32m    205\u001b[0m     \u001b[0;32mtry\u001b[0m\u001b[0;34m:\u001b[0m\u001b[0;34m\u001b[0m\u001b[0;34m\u001b[0m\u001b[0m\n\u001b[0;32m--> 206\u001b[0;31m       \u001b[0;32mreturn\u001b[0m \u001b[0mtarget\u001b[0m\u001b[0;34m(\u001b[0m\u001b[0;34m*\u001b[0m\u001b[0margs\u001b[0m\u001b[0;34m,\u001b[0m \u001b[0;34m**\u001b[0m\u001b[0mkwargs\u001b[0m\u001b[0;34m)\u001b[0m\u001b[0;34m\u001b[0m\u001b[0;34m\u001b[0m\u001b[0m\n\u001b[0m\u001b[1;32m    207\u001b[0m     \u001b[0;32mexcept\u001b[0m \u001b[0;34m(\u001b[0m\u001b[0mTypeError\u001b[0m\u001b[0;34m,\u001b[0m \u001b[0mValueError\u001b[0m\u001b[0;34m)\u001b[0m\u001b[0;34m:\u001b[0m\u001b[0;34m\u001b[0m\u001b[0;34m\u001b[0m\u001b[0m\n\u001b[1;32m    208\u001b[0m       \u001b[0;31m# Note: convert_to_eager_tensor currently raises a ValueError, not a\u001b[0m\u001b[0;34m\u001b[0m\u001b[0;34m\u001b[0m\u001b[0;34m\u001b[0m\u001b[0m\n",
      "\u001b[0;32m~/Documents/Uni/Master/SST Project/Code/projectvenv/lib/python3.8/site-packages/tensorflow/python/ops/math_ops.py\u001b[0m in \u001b[0;36mconj\u001b[0;34m(x, name)\u001b[0m\n\u001b[1;32m   4403\u001b[0m   \u001b[0;32mif\u001b[0m \u001b[0misinstance\u001b[0m\u001b[0;34m(\u001b[0m\u001b[0mx\u001b[0m\u001b[0;34m,\u001b[0m \u001b[0mops\u001b[0m\u001b[0;34m.\u001b[0m\u001b[0mTensor\u001b[0m\u001b[0;34m)\u001b[0m\u001b[0;34m:\u001b[0m\u001b[0;34m\u001b[0m\u001b[0;34m\u001b[0m\u001b[0m\n\u001b[1;32m   4404\u001b[0m     \u001b[0mdt\u001b[0m \u001b[0;34m=\u001b[0m \u001b[0mx\u001b[0m\u001b[0;34m.\u001b[0m\u001b[0mdtype\u001b[0m\u001b[0;34m\u001b[0m\u001b[0;34m\u001b[0m\u001b[0m\n\u001b[0;32m-> 4405\u001b[0;31m     \u001b[0;32mif\u001b[0m \u001b[0mdt\u001b[0m\u001b[0;34m.\u001b[0m\u001b[0mis_floating\u001b[0m \u001b[0;32mor\u001b[0m \u001b[0mdt\u001b[0m\u001b[0;34m.\u001b[0m\u001b[0mis_integer\u001b[0m\u001b[0;34m:\u001b[0m\u001b[0;34m\u001b[0m\u001b[0;34m\u001b[0m\u001b[0m\n\u001b[0m\u001b[1;32m   4406\u001b[0m       \u001b[0;32mreturn\u001b[0m \u001b[0mx\u001b[0m\u001b[0;34m\u001b[0m\u001b[0;34m\u001b[0m\u001b[0m\n\u001b[1;32m   4407\u001b[0m   \u001b[0;32mwith\u001b[0m \u001b[0mops\u001b[0m\u001b[0;34m.\u001b[0m\u001b[0mname_scope\u001b[0m\u001b[0;34m(\u001b[0m\u001b[0mname\u001b[0m\u001b[0;34m,\u001b[0m \u001b[0;34m\"Conj\"\u001b[0m\u001b[0;34m,\u001b[0m \u001b[0;34m[\u001b[0m\u001b[0mx\u001b[0m\u001b[0;34m]\u001b[0m\u001b[0;34m)\u001b[0m \u001b[0;32mas\u001b[0m \u001b[0mname\u001b[0m\u001b[0;34m:\u001b[0m\u001b[0;34m\u001b[0m\u001b[0;34m\u001b[0m\u001b[0m\n",
      "\u001b[0;31mKeyboardInterrupt\u001b[0m: "
     ]
    }
   ],
   "source": [
    "LOGPATH = f'{os.getcwd()}/LOG/GridSearch_BCI'\n",
    "os.makedirs(LOGPATH)\n",
    "\n",
    "learning_rates = [1e-5, 5e-5, 1e-4, 3e-4, 5e-3, 1e-3, 1e-2]\n",
    "c_hat = [3, 5, 7, 9]\n",
    "lstm_cells = [1, 3, 5, 7, 9]\n",
    "segment_length = [25, 50, 150, 250]\n",
    "\n",
    "HP_LEARNING_RATE = hp.HParam('Learning Rate', hp.Discrete(learning_rates))\n",
    "HP_FILTER_DIM = hp.HParam('Filter Dimension', hp.Discrete(c_hat))\n",
    "HP_LSTM_CELLS = hp.HParam('LSTM Cells', hp.Discrete(lstm_cells))\n",
    "HP_SEGMENT_LENGTH = hp.HParam('Segment length', hp.Discrete(segment_length))\n",
    "\n",
    "METRIC_ACCURACY = 'accuracy'\n",
    "\n",
    "def start_grid_search(hparams):\n",
    "    segmented_data_train = segment_data(EEG_TRAIN, hparams[HP_SEGMENT_LENGTH])\n",
    "    K_train, A_train = linear_regression(segmented_data_train)\n",
    "\n",
    "    segmented_data_test = segment_data(EEG_TEST, hparams[HP_SEGMENT_LENGTH])\n",
    "    K_test, A_test = linear_regression(segmented_data_test)\n",
    "    \n",
    "    trained_model = train(K_train_tf, A_train_tf,\n",
    "                          epochs=2, \n",
    "                          LSTM_cells=hparams[HP_LSTM_CELLS], \n",
    "                          lrate=hparams[HP_LEARNING_RATE], \n",
    "                          reduced_channel_dim=hparams[HP_FILTER_DIM])\n",
    "    accuracy = test(trained_model, K_test_tf, A_test_tf, ONE_HOT_VEC_TEST)\n",
    "    \n",
    "    return accuracy\n",
    "    \n",
    "\n",
    "def run(path, hparams, clist):\n",
    "    with tf.summary.create_file_writer(path).as_default():\n",
    "        hp.hparams(hparams)\n",
    "        accuracy = start_grid_search(hparams)\n",
    "        tf.summary.scalar(METRIC_ACCURACY, accuracy, step=1)\n",
    "\n",
    "session_idx = 0\n",
    "for lr_idx, lr in enumerate(HP_LEARNING_RATE.domain.values, 0):\n",
    "    for fdim_idx, fdim in enumerate(HP_FILTER_DIM.domain.values, 0):\n",
    "        for cells_idx, cells in enumerate(HP_LSTM_CELLS.domain.values, 0):\n",
    "            for segment_idx, N in enumerate(HP_SEGMENT_LENGTH.domain.values, 0):\n",
    "                \n",
    "                hparams = {\n",
    "                HP_LEARNING_RATE: lr,\n",
    "                HP_FILTER_DIM: fdim,\n",
    "                HP_LSTM_CELLS: cells,\n",
    "                HP_SEGMENT_LENGTH: N\n",
    "                }\n",
    "                \n",
    "                run(f'{LOGPATH}/{session_idx}', hparams, [])\n",
    "                session_idx += 1\n"
   ]
  },
  {
   "cell_type": "code",
   "execution_count": null,
   "id": "af166bc9",
   "metadata": {},
   "outputs": [],
   "source": []
  },
  {
   "cell_type": "code",
   "execution_count": null,
   "id": "71ce4715",
   "metadata": {},
   "outputs": [],
   "source": [
    "def sliding_window(data, win_overlap, win_length):\n",
    "    num_trials = data.shape[0]\n",
    "    num_channels = data.shape[1]\n",
    "    num_samples = data.shape[2]\n",
    "\n",
    "    assert num_samples % win_length == 0\n",
    "    assert (num_samples * win_overlap) % 1 == 0\n",
    "    \n",
    "    offset = (1-win_overlap) * win_length\n",
    "    num_windows = int((num_samples - win_length)//offset + 1)\n",
    "\n",
    "    sliced_eeg_data = np.zeros(shape=(num_trials, num_windows, num_channels,  win_length))\n",
    "    for trial_idx in range(num_trials):\n",
    "        for window_idx in range(num_windows):\n",
    "            for channel_idx in range(num_channels):\n",
    "                upper_border = int(window_idx*offset)\n",
    "                lower_border = int(window_idx*offset+win_length)\n",
    "                sliced_eeg_data[trial_idx][window_idx][channel_idx] = data[trial_idx][channel_idx][upper_border:lower_border]\n",
    "    \n",
    "    return sliced_eeg_data\n",
    "\n",
    "def statistical_features(data):\n",
    "    # [Mean, Energy, Standard Deviation, Max]\n",
    "    stat_features = np.zeros(shape=(len(data)*num_features))\n",
    "    for idx, sample in enumerate(data, 0):\n",
    "        mean = np.mean(sample)\n",
    "        energy = np.sum(np.array([x**2 for x in sample]))\n",
    "        std_dev = np.std(sample)\n",
    "        max_val = np.amax(sample)\n",
    "        min_val = np.amin(sample)\n",
    "        stat_features[idx*num_features:(idx+1)*num_features] = np.array([mean, energy, std_dev, max_val, min_val])\n",
    "    \n",
    "    return stat_features\n",
    "\n",
    "def discrete_wavelet_transform(raw_data, dwt_level):\n",
    "    num_labels = raw_data.shape[0]\n",
    "    num_windows = raw_data.shape[1]\n",
    "    num_channels = raw_data.shape[2]\n",
    "    observations = raw_data.shape[3]\n",
    "    \n",
    "    num_features = 4\n",
    "    dwt_features = np.zeros(shape=(num_labels, num_windows, num_channels, num_features*dwt_level))\n",
    "    \n",
    "    for label_idx in range(num_labels):\n",
    "        tmp = np.zeros(shape=(num_channels, num_features*dwt_level))\n",
    "        for window_idx in range(num_windows):\n",
    "            for channel_idx in range(num_channels):\n",
    "                # Shape: [cA_n, cD_n, cD_n-1, …, cD2, cD1] \n",
    "                dwt_coefficients = pywt.wavedec(raw_data[label_idx, channel_idx], 'db4', level=dwt_level)[1:]\n",
    "                stat_features = statistical_features(dwt_coefficients, 4)\n",
    "                tmp[channel_idx] = stat_features\n",
    "            dwt_features[label_idx] = tmp\n",
    "    \n",
    "    return dwt_features\n",
    "\n",
    "def prinicipal_component_analysis(eeg_data, principle_components):\n",
    "    num_labels = eeg_data.shape[0]\n",
    "    num_windows = eeg_data.shape[1]\n",
    "    num_channels = eeg_data.shape[2]\n",
    "    observations = eeg_data.shape[3]\n",
    "    \n",
    "    features = np.zeros(shape=(num_labels, num_windows, principle_components, observations))\n",
    "    \n",
    "    for label_idx in range(num_labels):\n",
    "        for window_idx in range(num_windows):\n",
    "            segment = eeg_data[label_idx][window_idx]\n",
    "            segment_mean = np.mean(segment, axis=1)[None].T\n",
    "            centred_segment = segment - np.tile(segment_mean, (1, observations))\n",
    "            segment_cov = np.matmul(centred_segment, centred_segment.T)/observations\n",
    "            \n",
    "            eig_values, eig_vector = np.linalg.eig(segment_cov)\n",
    "            pca_result = np.matmul(eig_vector[:,0:principle_components].T, segment)\n",
    "            features[label_idx][window_idx] = pca_result\n",
    "    \n",
    "    return features\n",
    "\n",
    "def bandpass_filtering(frequency_bands, raw_data):\n",
    "    num_labels = raw_data.shape[0]\n",
    "    num_channels = raw_data.shape[1]\n",
    "    observations = raw_data.shape[2]\n",
    "    num_bands = len(frequency_bands)\n",
    "    \n",
    "    band_filtered_data = np.zeros(shape=(num_labels, num_channels, num_bands, observations))\n",
    "    for label_idx in range(num_labels):\n",
    "        for channel_idx in range(num_channels):\n",
    "            for band_idx, freq_band in enumerate(frequency_bands, 0):\n",
    "                sos = butter(N=10, Wn=freq_band, btype='bandpass', output='sos')\n",
    "                filtered_signal = sosfiltfilt(sos, raw_data[label_idx, channel_idx])\n",
    "                band_filtered_data[label_idx, channel_idx, band_idx] = np.copy(filtered_signal)\n",
    "    \n",
    "    return band_filtered_data\n",
    "\n",
    "#frequency_bands = np.array([[4, 8], [8, 16], [16, 32], [32, 63]])/64\n",
    "#result = bandpass_filtering(frequency_bands, data)\n",
    "\n",
    "def hilbert_transform(dwt_data):\n",
    "    hilbert_env_data = np.abs(hilbert(dwt_data))\n",
    "    "
   ]
  }
 ],
 "metadata": {
  "kernelspec": {
   "display_name": "projectvenv",
   "language": "python",
   "name": "projectvenv"
  },
  "language_info": {
   "codemirror_mode": {
    "name": "ipython",
    "version": 3
   },
   "file_extension": ".py",
   "mimetype": "text/x-python",
   "name": "python",
   "nbconvert_exporter": "python",
   "pygments_lexer": "ipython3",
   "version": "3.8.7"
  }
 },
 "nbformat": 4,
 "nbformat_minor": 5
}
